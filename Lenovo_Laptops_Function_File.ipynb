{
 "cells": [
  {
   "cell_type": "markdown",
   "metadata": {},
   "source": [
    "### Importing The Libraries"
   ]
  },
  {
   "cell_type": "code",
   "execution_count": 4,
   "metadata": {},
   "outputs": [
    {
     "name": "stdout",
     "output_type": "stream",
     "text": [
      "Requirement already satisfied: bs4 in c:\\users\\deepanshu\\anaconda3\\lib\\site-packages (0.0.1)\n",
      "Requirement already satisfied: beautifulsoup4 in c:\\users\\deepanshu\\anaconda3\\lib\\site-packages (from bs4) (4.9.3)\n",
      "Requirement already satisfied: soupsieve>1.2; python_version >= \"3.0\" in c:\\users\\deepanshu\\anaconda3\\lib\\site-packages (from beautifulsoup4->bs4) (2.0.1)\n",
      "Requirement already satisfied: requests in c:\\users\\deepanshu\\anaconda3\\lib\\site-packages (2.24.0)\n",
      "Requirement already satisfied: chardet<4,>=3.0.2 in c:\\users\\deepanshu\\anaconda3\\lib\\site-packages (from requests) (3.0.4)\n",
      "Requirement already satisfied: certifi>=2017.4.17 in c:\\users\\deepanshu\\anaconda3\\lib\\site-packages (from requests) (2020.6.20)\n",
      "Requirement already satisfied: urllib3!=1.25.0,!=1.25.1,<1.26,>=1.21.1 in c:\\users\\deepanshu\\anaconda3\\lib\\site-packages (from requests) (1.25.11)\n",
      "Requirement already satisfied: idna<3,>=2.5 in c:\\users\\deepanshu\\anaconda3\\lib\\site-packages (from requests) (2.10)\n",
      "Requirement already satisfied: html5lib in c:\\users\\deepanshu\\anaconda3\\lib\\site-packages (1.1)\n",
      "Requirement already satisfied: six>=1.9 in c:\\users\\deepanshu\\anaconda3\\lib\\site-packages (from html5lib) (1.15.0)\n",
      "Requirement already satisfied: webencodings in c:\\users\\deepanshu\\anaconda3\\lib\\site-packages (from html5lib) (0.5.1)\n"
     ]
    }
   ],
   "source": [
    "!pip install bs4\n",
    "!pip install requests\n",
    "!pip install html5lib\n",
    "import bs4\n",
    "import re\n",
    "import requests\n",
    "from bs4 import BeautifulSoup"
   ]
  },
  {
   "cell_type": "markdown",
   "metadata": {},
   "source": [
    "### Function Data"
   ]
  },
  {
   "cell_type": "code",
   "execution_count": 2,
   "metadata": {},
   "outputs": [],
   "source": [
    "def main(search_term):\n",
    "    record=[]\n",
    "    url=get_url(search_term)\n",
    "    for page in range(1,7):\n",
    "        if page=='1':\n",
    "            d = request\n",
    "            s.get(url)\n",
    "        else:\n",
    "            d = requests.get(url+'&page={}'.format(page))\n",
    "        htmlContent = d.content\n",
    "        soup = BeautifulSoup (htmlContent, 'html.parser')\n",
    "        initial = soup.find_all('div',{'class':'_13oc-S'})\n",
    "        for item in initial:\n",
    "            list.append(extract_record(item))\n",
    "\n",
    "def get_url(search_term):\n",
    "    template=\"https://www.flipkart.com/search?q={}&sid=6bo%2Cb5g&as=on&as-show=on&otracker=AS_QueryStore_OrganicAutoSuggest_1_6_na_na_ps&otracker1=AS_QueryStore_OrganicAutoSuggest_1_6_na_na_ps&as-pos=1&as-type=RECENT&suggestionId={}%7CLaptops&requestId=b63e4ba2-73da-4bf5-bd2d-ec7b1b8f1f33&as-searchtext=lenovo\"\n",
    "    search_term = search_term.replace(' ','+')\n",
    "    url = template.format(search_term,search_term)\n",
    "        \n",
    "    return url\n",
    "\n",
    "def extract_record(item):\n",
    "    \n",
    "    name=item.find('div',{'class':'_4rR01T'}).text\n",
    "    \n",
    "    try:\n",
    "        price=item.find('div',{'class':'_30jeq3 _1_WHN1'}).text\n",
    "    \n",
    "    except AttributeError:\n",
    "        price ='NA'\n",
    "        \n",
    "    link_initial=item.a.get('href')\n",
    "    link='https://www.flipkart.com'+ link_initial\n",
    "\n",
    "    try:\n",
    "        rating =item.find('div',{'class':'_3LWZlK'}).text\n",
    "        review_initial=item.find('span',{'class':'_2_R_DZ'}).text\n",
    "        review=re.sub('[\\xa0]',' ',review_initial)\n",
    "    \n",
    "    except:\n",
    "        rating='NA'\n",
    "        review='NA'\n",
    "    \n",
    "    \n",
    "    ds = item.find('ul',{'class':'_1xgFaf'}).text\n",
    "    \n",
    "    result = (name, price, link, rating, review, ds)\n",
    "    return result\n",
    "\n",
    "list =[]\n"
   ]
  }
 ],
 "metadata": {
  "kernelspec": {
   "display_name": "Python 3",
   "language": "python",
   "name": "python3"
  },
  "language_info": {
   "codemirror_mode": {
    "name": "ipython",
    "version": 3
   },
   "file_extension": ".py",
   "mimetype": "text/x-python",
   "name": "python",
   "nbconvert_exporter": "python",
   "pygments_lexer": "ipython3",
   "version": "3.8.5"
  }
 },
 "nbformat": 4,
 "nbformat_minor": 4
}
